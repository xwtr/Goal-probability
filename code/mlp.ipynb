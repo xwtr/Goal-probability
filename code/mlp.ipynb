{
 "cells": [
  {
   "cell_type": "code",
   "execution_count": 1,
   "metadata": {},
   "outputs": [],
   "source": [
    "import numpy as np\n",
    "import pandas as pd\n",
    "import matplotlib.pyplot as plt\n",
    "\n",
    "from sklearn import preprocessing\n",
    "from sklearn.preprocessing import LabelEncoder\n",
    "from sklearn.preprocessing import MinMaxScaler\n",
    "from sklearn.impute import SimpleImputer\n",
    "from sklearn.model_selection import train_test_split\n",
    "\n",
    "from tensorflow.keras import regularizers\n"
   ]
  },
  {
   "cell_type": "code",
   "execution_count": 2,
   "metadata": {},
   "outputs": [
    {
     "data": {
      "text/html": [
       "<div>\n",
       "<style scoped>\n",
       "    .dataframe tbody tr th:only-of-type {\n",
       "        vertical-align: middle;\n",
       "    }\n",
       "\n",
       "    .dataframe tbody tr th {\n",
       "        vertical-align: top;\n",
       "    }\n",
       "\n",
       "    .dataframe thead th {\n",
       "        text-align: right;\n",
       "    }\n",
       "</style>\n",
       "<table border=\"1\" class=\"dataframe\">\n",
       "  <thead>\n",
       "    <tr style=\"text-align: right;\">\n",
       "      <th></th>\n",
       "      <th>matchId</th>\n",
       "      <th>playerId</th>\n",
       "      <th>playType</th>\n",
       "      <th>bodyPart</th>\n",
       "      <th>x</th>\n",
       "      <th>y</th>\n",
       "      <th>interveningOpponents</th>\n",
       "      <th>interveningTeammates</th>\n",
       "      <th>interferenceOnShooter</th>\n",
       "      <th>minute</th>\n",
       "      <th>second</th>\n",
       "      <th>outcome</th>\n",
       "    </tr>\n",
       "  </thead>\n",
       "  <tbody>\n",
       "    <tr>\n",
       "      <th>0</th>\n",
       "      <td>m_91</td>\n",
       "      <td>p_103</td>\n",
       "      <td>جریان بازی</td>\n",
       "      <td>پای راست</td>\n",
       "      <td>13.47</td>\n",
       "      <td>-11.22</td>\n",
       "      <td>1</td>\n",
       "      <td>0</td>\n",
       "      <td>متوسط</td>\n",
       "      <td>70</td>\n",
       "      <td>9</td>\n",
       "      <td>گُل</td>\n",
       "    </tr>\n",
       "    <tr>\n",
       "      <th>1</th>\n",
       "      <td>m_17</td>\n",
       "      <td>p_16</td>\n",
       "      <td>جریان بازی</td>\n",
       "      <td>پای چپ</td>\n",
       "      <td>9.48</td>\n",
       "      <td>14.22</td>\n",
       "      <td>3</td>\n",
       "      <td>0</td>\n",
       "      <td>متوسط</td>\n",
       "      <td>55</td>\n",
       "      <td>4</td>\n",
       "      <td>مهار توسط دروازه بان</td>\n",
       "    </tr>\n",
       "    <tr>\n",
       "      <th>2</th>\n",
       "      <td>m_111</td>\n",
       "      <td>p_88</td>\n",
       "      <td>ضربه آزاد مستقیم</td>\n",
       "      <td>پای چپ</td>\n",
       "      <td>29.43</td>\n",
       "      <td>-1.25</td>\n",
       "      <td>6</td>\n",
       "      <td>2</td>\n",
       "      <td>کم</td>\n",
       "      <td>86</td>\n",
       "      <td>31</td>\n",
       "      <td>مهار توسط دروازه بان</td>\n",
       "    </tr>\n",
       "    <tr>\n",
       "      <th>3</th>\n",
       "      <td>m_142</td>\n",
       "      <td>p_87</td>\n",
       "      <td>جریان بازی</td>\n",
       "      <td>پای راست</td>\n",
       "      <td>26.93</td>\n",
       "      <td>1.00</td>\n",
       "      <td>4</td>\n",
       "      <td>1</td>\n",
       "      <td>متوسط</td>\n",
       "      <td>77</td>\n",
       "      <td>2</td>\n",
       "      <td>موقعیت از دست رفته</td>\n",
       "    </tr>\n",
       "    <tr>\n",
       "      <th>4</th>\n",
       "      <td>m_117</td>\n",
       "      <td>p_9</td>\n",
       "      <td>جریان بازی</td>\n",
       "      <td>پای راست</td>\n",
       "      <td>10.72</td>\n",
       "      <td>5.24</td>\n",
       "      <td>2</td>\n",
       "      <td>0</td>\n",
       "      <td>متوسط</td>\n",
       "      <td>76</td>\n",
       "      <td>46</td>\n",
       "      <td>گُل</td>\n",
       "    </tr>\n",
       "  </tbody>\n",
       "</table>\n",
       "</div>"
      ],
      "text/plain": [
       "  matchId playerId          playType  bodyPart      x      y  \\\n",
       "0    m_91    p_103        جریان بازی  پای راست  13.47 -11.22   \n",
       "1    m_17     p_16        جریان بازی    پای چپ   9.48  14.22   \n",
       "2   m_111     p_88  ضربه آزاد مستقیم    پای چپ  29.43  -1.25   \n",
       "3   m_142     p_87        جریان بازی  پای راست  26.93   1.00   \n",
       "4   m_117      p_9        جریان بازی  پای راست  10.72   5.24   \n",
       "\n",
       "   interveningOpponents  interveningTeammates interferenceOnShooter  minute  \\\n",
       "0                     1                     0                 متوسط      70   \n",
       "1                     3                     0                 متوسط      55   \n",
       "2                     6                     2                    کم      86   \n",
       "3                     4                     1                 متوسط      77   \n",
       "4                     2                     0                 متوسط      76   \n",
       "\n",
       "   second               outcome  \n",
       "0       9                   گُل  \n",
       "1       4  مهار توسط دروازه بان  \n",
       "2      31  مهار توسط دروازه بان  \n",
       "3       2    موقعیت از دست رفته  \n",
       "4      46                   گُل  "
      ]
     },
     "execution_count": 2,
     "metadata": {},
     "output_type": "execute_result"
    }
   ],
   "source": [
    "train_data=pd.read_csv('train.csv')\n",
    "test_data=pd.read_csv('test.csv')\n",
    "train_data.head()"
   ]
  },
  {
   "cell_type": "code",
   "execution_count": 3,
   "metadata": {},
   "outputs": [],
   "source": [
    "train_data.drop(['matchId', 'playerId', 'second'],axis=1,inplace=True)\n",
    "test_data.drop([ 'second'],axis=1,inplace=True)"
   ]
  },
  {
   "cell_type": "markdown",
   "metadata": {},
   "source": [
    "## replace missing values"
   ]
  },
  {
   "cell_type": "code",
   "execution_count": 4,
   "metadata": {},
   "outputs": [],
   "source": [
    "def imputer(data):\n",
    "    imp_mean = SimpleImputer(missing_values=float('nan'), strategy=\"most_frequent\")\n",
    "    imp_mean.fit(data)\n",
    "    imputed_data=pd.DataFrame(imp_mean.transform(data))\n",
    "    imputed_data.columns=data.columns\n",
    "    imputed_data.index=data.index\n",
    "    return imputed_data\n",
    "\n",
    "train_data=imputer(train_data)\n",
    "test_data=imputer(test_data)"
   ]
  },
  {
   "cell_type": "markdown",
   "metadata": {},
   "source": [
    "## add new fetuers"
   ]
  },
  {
   "cell_type": "code",
   "execution_count": 5,
   "metadata": {},
   "outputs": [],
   "source": [
    "def add_distance(data):\n",
    "    X=np.array(data.x).astype(float)\n",
    "    y=np.array(data.y).astype(float)\n",
    "    distance=np.round(np.sqrt((X**2+y**2)))\n",
    "    return distance\n",
    "\n",
    "train_data['distance']=add_distance(train_data)\n",
    "test_data['distance']=add_distance(test_data)"
   ]
  },
  {
   "cell_type": "code",
   "execution_count": 6,
   "metadata": {},
   "outputs": [],
   "source": [
    "goal_line_width = 7.32\n",
    "\n",
    "def add_anlge(data):\n",
    "    X=np.array(data.x).astype(float)\n",
    "    y=np.array(data.y).astype(float)\n",
    "    angle=np.arctan(goal_line_width*X/(X**2+y**2-(goal_line_width/2)**2))\n",
    "    to_degree=np.vectorize(lambda alpha: np.pi + alpha if alpha < 0 else alpha)\n",
    "\n",
    "    angle=np.rad2deg(to_degree(angle))\n",
    "    return angle\n",
    "train_data['angle']=add_anlge(train_data)\n",
    "test_data['angle']=add_anlge(test_data)\n",
    "    \n",
    "    "
   ]
  },
  {
   "cell_type": "code",
   "execution_count": 7,
   "metadata": {},
   "outputs": [
    {
     "data": {
      "text/plain": [
       "array(['گُل', 'مهار توسط دروازه بان', 'موقعیت از دست رفته',\n",
       "       'برخورد به دفاع', 'برخورد به تیردروازه', 'گُل به خودی'],\n",
       "      dtype=object)"
      ]
     },
     "execution_count": 7,
     "metadata": {},
     "output_type": "execute_result"
    }
   ],
   "source": [
    "train_data.outcome.unique()"
   ]
  },
  {
   "cell_type": "code",
   "execution_count": 8,
   "metadata": {},
   "outputs": [
    {
     "data": {
      "text/plain": [
       "array(['متوسط', 'کم', 'زیاد'], dtype=object)"
      ]
     },
     "execution_count": 8,
     "metadata": {},
     "output_type": "execute_result"
    }
   ],
   "source": [
    "train_data.interferenceOnShooter.unique()"
   ]
  },
  {
   "cell_type": "code",
   "execution_count": 9,
   "metadata": {},
   "outputs": [],
   "source": [
    "train_data['outcome']=  (train_data.outcome=='گُل')  |(train_data.outcome=='گُل به خودی')\n",
    "train_data['outcome']=train_data['outcome'].astype(float)"
   ]
  },
  {
   "cell_type": "code",
   "execution_count": 10,
   "metadata": {},
   "outputs": [
    {
     "name": "stderr",
     "output_type": "stream",
     "text": [
      "/usr/local/lib/python3.6/dist-packages/sklearn/utils/validation.py:63: DataConversionWarning: A column-vector y was passed when a 1d array was expected. Please change the shape of y to (n_samples, ), for example using ravel().\n",
      "  return f(*args, **kwargs)\n"
     ]
    }
   ],
   "source": [
    "\n",
    "for col in ['interferenceOnShooter','playType' ,'bodyPart']:\n",
    "    enc=preprocessing.LabelEncoder()\n",
    "\n",
    "    train_data[col]=enc.fit_transform(np.array(train_data[col]).reshape(-1, 1))\n",
    "    test_data[col]=enc.transform(np.array(test_data[col]).reshape(-1, 1))"
   ]
  },
  {
   "cell_type": "code",
   "execution_count": 11,
   "metadata": {},
   "outputs": [
    {
     "data": {
      "text/html": [
       "<div>\n",
       "<style scoped>\n",
       "    .dataframe tbody tr th:only-of-type {\n",
       "        vertical-align: middle;\n",
       "    }\n",
       "\n",
       "    .dataframe tbody tr th {\n",
       "        vertical-align: top;\n",
       "    }\n",
       "\n",
       "    .dataframe thead th {\n",
       "        text-align: right;\n",
       "    }\n",
       "</style>\n",
       "<table border=\"1\" class=\"dataframe\">\n",
       "  <thead>\n",
       "    <tr style=\"text-align: right;\">\n",
       "      <th></th>\n",
       "      <th>playType</th>\n",
       "      <th>bodyPart</th>\n",
       "      <th>x</th>\n",
       "      <th>y</th>\n",
       "      <th>interveningOpponents</th>\n",
       "      <th>interveningTeammates</th>\n",
       "      <th>interferenceOnShooter</th>\n",
       "      <th>minute</th>\n",
       "      <th>outcome</th>\n",
       "      <th>distance</th>\n",
       "      <th>angle</th>\n",
       "    </tr>\n",
       "  </thead>\n",
       "  <tbody>\n",
       "    <tr>\n",
       "      <th>0</th>\n",
       "      <td>0</td>\n",
       "      <td>2</td>\n",
       "      <td>13.47</td>\n",
       "      <td>-11.22</td>\n",
       "      <td>1</td>\n",
       "      <td>0</td>\n",
       "      <td>1</td>\n",
       "      <td>70</td>\n",
       "      <td>1.0</td>\n",
       "      <td>18.0</td>\n",
       "      <td>18.544088</td>\n",
       "    </tr>\n",
       "    <tr>\n",
       "      <th>1</th>\n",
       "      <td>0</td>\n",
       "      <td>3</td>\n",
       "      <td>9.48</td>\n",
       "      <td>14.22</td>\n",
       "      <td>3</td>\n",
       "      <td>0</td>\n",
       "      <td>1</td>\n",
       "      <td>55</td>\n",
       "      <td>0.0</td>\n",
       "      <td>17.0</td>\n",
       "      <td>13.982592</td>\n",
       "    </tr>\n",
       "    <tr>\n",
       "      <th>2</th>\n",
       "      <td>1</td>\n",
       "      <td>3</td>\n",
       "      <td>29.43</td>\n",
       "      <td>-1.25</td>\n",
       "      <td>6</td>\n",
       "      <td>2</td>\n",
       "      <td>2</td>\n",
       "      <td>86</td>\n",
       "      <td>0.0</td>\n",
       "      <td>29.0</td>\n",
       "      <td>14.153255</td>\n",
       "    </tr>\n",
       "    <tr>\n",
       "      <th>3</th>\n",
       "      <td>0</td>\n",
       "      <td>2</td>\n",
       "      <td>26.93</td>\n",
       "      <td>1</td>\n",
       "      <td>4</td>\n",
       "      <td>1</td>\n",
       "      <td>1</td>\n",
       "      <td>77</td>\n",
       "      <td>0.0</td>\n",
       "      <td>27.0</td>\n",
       "      <td>15.458384</td>\n",
       "    </tr>\n",
       "    <tr>\n",
       "      <th>4</th>\n",
       "      <td>0</td>\n",
       "      <td>2</td>\n",
       "      <td>10.72</td>\n",
       "      <td>5.24</td>\n",
       "      <td>2</td>\n",
       "      <td>0</td>\n",
       "      <td>1</td>\n",
       "      <td>76</td>\n",
       "      <td>1.0</td>\n",
       "      <td>12.0</td>\n",
       "      <td>31.315918</td>\n",
       "    </tr>\n",
       "  </tbody>\n",
       "</table>\n",
       "</div>"
      ],
      "text/plain": [
       "   playType  bodyPart      x      y interveningOpponents interveningTeammates  \\\n",
       "0         0         2  13.47 -11.22                    1                    0   \n",
       "1         0         3   9.48  14.22                    3                    0   \n",
       "2         1         3  29.43  -1.25                    6                    2   \n",
       "3         0         2  26.93      1                    4                    1   \n",
       "4         0         2  10.72   5.24                    2                    0   \n",
       "\n",
       "   interferenceOnShooter minute  outcome  distance      angle  \n",
       "0                      1     70      1.0      18.0  18.544088  \n",
       "1                      1     55      0.0      17.0  13.982592  \n",
       "2                      2     86      0.0      29.0  14.153255  \n",
       "3                      1     77      0.0      27.0  15.458384  \n",
       "4                      1     76      1.0      12.0  31.315918  "
      ]
     },
     "execution_count": 11,
     "metadata": {},
     "output_type": "execute_result"
    }
   ],
   "source": [
    "train_data.head()"
   ]
  },
  {
   "cell_type": "code",
   "execution_count": 12,
   "metadata": {},
   "outputs": [],
   "source": [
    "X=train_data.drop(labels='outcome',axis=1)\n",
    "y=pd.DataFrame()\n",
    "y['outcome']=train_data['outcome']"
   ]
  },
  {
   "cell_type": "code",
   "execution_count": 13,
   "metadata": {},
   "outputs": [],
   "source": [
    "scaler = preprocessing.MinMaxScaler().fit(X)\n",
    "X=pd.DataFrame(scaler.transform(X))\n",
    "test_data=pd.DataFrame(scaler.transform(test_data))"
   ]
  },
  {
   "cell_type": "code",
   "execution_count": 14,
   "metadata": {},
   "outputs": [],
   "source": [
    "X_train, X_val,  y_train, y_val = train_test_split( X, y, test_size=0.1, shuffle=True,random_state=42)"
   ]
  },
  {
   "cell_type": "code",
   "execution_count": 15,
   "metadata": {},
   "outputs": [
    {
     "data": {
      "text/plain": [
       "True"
      ]
     },
     "execution_count": 15,
     "metadata": {},
     "output_type": "execute_result"
    }
   ],
   "source": [
    "test_data.shape[0]==pd.read_csv('test.csv').shape[0]\n"
   ]
  },
  {
   "cell_type": "code",
   "execution_count": 16,
   "metadata": {},
   "outputs": [],
   "source": [
    "# import the necessary packages\n",
    "import tensorflow as tf\n",
    "from tensorflow.keras.models import Sequential\n",
    "from tensorflow.keras.layers import Dense, Dropout, Activation,BatchNormalization\n",
    "from sklearn.preprocessing import LabelBinarizer\n",
    "from sklearn.preprocessing import MinMaxScaler\n",
    "from sklearn.model_selection import train_test_split\n",
    "from tensorflow.keras.optimizers import Adam"
   ]
  },
  {
   "cell_type": "code",
   "execution_count": 17,
   "metadata": {},
   "outputs": [],
   "source": [
    "model = Sequential()\n",
    "model.add(BatchNormalization())\n",
    "model.add(Dense(32, activation='relu'))\n",
    "model.add(Dropout(0.1))\n",
    "# model.add(Dense(16, activation='relu'))\n",
    "# model.add(Dropout(0.1))\n",
    "model.add(Dense(8, activation='relu'))\n",
    "model.add(Dropout(0.1))\n",
    "model.add(Dense(1))\n"
   ]
  },
  {
   "cell_type": "code",
   "execution_count": 18,
   "metadata": {
    "scrolled": true
   },
   "outputs": [
    {
     "name": "stdout",
     "output_type": "stream",
     "text": [
      "Epoch 1/63\n",
      "502/502 [==============================] - 2s 2ms/step - loss: 0.1516 - accuracy: 0.8586 - val_loss: 0.0950 - val_accuracy: 0.8835\n",
      "Epoch 2/63\n",
      "502/502 [==============================] - 1s 2ms/step - loss: 0.0948 - accuracy: 0.8854 - val_loss: 0.0908 - val_accuracy: 0.8925\n",
      "Epoch 3/63\n",
      "502/502 [==============================] - 1s 3ms/step - loss: 0.0934 - accuracy: 0.8830 - val_loss: 0.0888 - val_accuracy: 0.8925\n",
      "Epoch 4/63\n",
      "502/502 [==============================] - 1s 2ms/step - loss: 0.0919 - accuracy: 0.8857 - val_loss: 0.0889 - val_accuracy: 0.8936\n",
      "Epoch 5/63\n",
      "502/502 [==============================] - 1s 2ms/step - loss: 0.0925 - accuracy: 0.8865 - val_loss: 0.0885 - val_accuracy: 0.8936\n",
      "Epoch 6/63\n",
      "502/502 [==============================] - 1s 2ms/step - loss: 0.0919 - accuracy: 0.8861 - val_loss: 0.0878 - val_accuracy: 0.8925\n",
      "Epoch 7/63\n",
      "502/502 [==============================] - 1s 2ms/step - loss: 0.0868 - accuracy: 0.8907 - val_loss: 0.0879 - val_accuracy: 0.8959\n",
      "Epoch 8/63\n",
      "502/502 [==============================] - 1s 2ms/step - loss: 0.0951 - accuracy: 0.8814 - val_loss: 0.0888 - val_accuracy: 0.8925\n",
      "Epoch 9/63\n",
      "502/502 [==============================] - 1s 2ms/step - loss: 0.0966 - accuracy: 0.8757 - val_loss: 0.0909 - val_accuracy: 0.8936\n",
      "Epoch 10/63\n",
      "502/502 [==============================] - 1s 2ms/step - loss: 0.0903 - accuracy: 0.8807 - val_loss: 0.0876 - val_accuracy: 0.8925\n",
      "Epoch 11/63\n",
      "502/502 [==============================] - 1s 2ms/step - loss: 0.0941 - accuracy: 0.8809 - val_loss: 0.0888 - val_accuracy: 0.8936\n",
      "Epoch 12/63\n",
      "502/502 [==============================] - 1s 2ms/step - loss: 0.0940 - accuracy: 0.8815 - val_loss: 0.0881 - val_accuracy: 0.8925\n",
      "Epoch 13/63\n",
      "502/502 [==============================] - 1s 2ms/step - loss: 0.0908 - accuracy: 0.8813 - val_loss: 0.0880 - val_accuracy: 0.8914\n",
      "Epoch 14/63\n",
      "502/502 [==============================] - 1s 2ms/step - loss: 0.0854 - accuracy: 0.8912 - val_loss: 0.0885 - val_accuracy: 0.8936\n",
      "Epoch 15/63\n",
      "502/502 [==============================] - 1s 2ms/step - loss: 0.0902 - accuracy: 0.8863 - val_loss: 0.0879 - val_accuracy: 0.8925\n",
      "Epoch 16/63\n",
      "502/502 [==============================] - 1s 2ms/step - loss: 0.0883 - accuracy: 0.8886 - val_loss: 0.0876 - val_accuracy: 0.8936\n",
      "Epoch 17/63\n",
      "502/502 [==============================] - 1s 2ms/step - loss: 0.0899 - accuracy: 0.8817 - val_loss: 0.0928 - val_accuracy: 0.8914\n",
      "Epoch 18/63\n",
      "502/502 [==============================] - 1s 2ms/step - loss: 0.0869 - accuracy: 0.8903 - val_loss: 0.0889 - val_accuracy: 0.8925\n",
      "Epoch 19/63\n",
      "502/502 [==============================] - 1s 2ms/step - loss: 0.0877 - accuracy: 0.8894 - val_loss: 0.0877 - val_accuracy: 0.8903\n",
      "Epoch 20/63\n",
      "502/502 [==============================] - 1s 2ms/step - loss: 0.0871 - accuracy: 0.8885 - val_loss: 0.0887 - val_accuracy: 0.8936\n",
      "Epoch 21/63\n",
      "502/502 [==============================] - 1s 2ms/step - loss: 0.0929 - accuracy: 0.8816 - val_loss: 0.0877 - val_accuracy: 0.8947\n",
      "Epoch 22/63\n",
      "502/502 [==============================] - 1s 2ms/step - loss: 0.0909 - accuracy: 0.8864 - val_loss: 0.0873 - val_accuracy: 0.8925\n",
      "Epoch 23/63\n",
      "502/502 [==============================] - 1s 2ms/step - loss: 0.0847 - accuracy: 0.8919 - val_loss: 0.0888 - val_accuracy: 0.8947\n",
      "Epoch 24/63\n",
      "502/502 [==============================] - 1s 2ms/step - loss: 0.0900 - accuracy: 0.8857 - val_loss: 0.0912 - val_accuracy: 0.8925\n",
      "Epoch 25/63\n",
      "502/502 [==============================] - 1s 2ms/step - loss: 0.0905 - accuracy: 0.8880 - val_loss: 0.0894 - val_accuracy: 0.8936\n",
      "Epoch 26/63\n",
      "502/502 [==============================] - 1s 3ms/step - loss: 0.0896 - accuracy: 0.8844 - val_loss: 0.0893 - val_accuracy: 0.8925\n",
      "Epoch 27/63\n",
      "502/502 [==============================] - 1s 2ms/step - loss: 0.0908 - accuracy: 0.8824 - val_loss: 0.0886 - val_accuracy: 0.8925\n",
      "Epoch 28/63\n",
      "502/502 [==============================] - 1s 3ms/step - loss: 0.0960 - accuracy: 0.8716 - val_loss: 0.0874 - val_accuracy: 0.8914\n",
      "Epoch 29/63\n",
      "502/502 [==============================] - 1s 2ms/step - loss: 0.0935 - accuracy: 0.8819 - val_loss: 0.0885 - val_accuracy: 0.8925\n",
      "Epoch 30/63\n",
      "502/502 [==============================] - 1s 2ms/step - loss: 0.0923 - accuracy: 0.8831 - val_loss: 0.0898 - val_accuracy: 0.8947\n",
      "Epoch 31/63\n",
      "502/502 [==============================] - 1s 2ms/step - loss: 0.0927 - accuracy: 0.8811 - val_loss: 0.0878 - val_accuracy: 0.8936\n",
      "Epoch 32/63\n",
      "502/502 [==============================] - 1s 2ms/step - loss: 0.0889 - accuracy: 0.8875 - val_loss: 0.0893 - val_accuracy: 0.8925\n",
      "Epoch 33/63\n",
      "502/502 [==============================] - 1s 2ms/step - loss: 0.0899 - accuracy: 0.8860 - val_loss: 0.0896 - val_accuracy: 0.8936\n",
      "Epoch 34/63\n",
      "502/502 [==============================] - 1s 3ms/step - loss: 0.0888 - accuracy: 0.8888 - val_loss: 0.0908 - val_accuracy: 0.8925\n",
      "Epoch 35/63\n",
      "502/502 [==============================] - 2s 3ms/step - loss: 0.0917 - accuracy: 0.8850 - val_loss: 0.0885 - val_accuracy: 0.8925\n",
      "Epoch 36/63\n",
      "502/502 [==============================] - 1s 2ms/step - loss: 0.0909 - accuracy: 0.8835 - val_loss: 0.0908 - val_accuracy: 0.8914\n",
      "Epoch 37/63\n",
      "502/502 [==============================] - 1s 2ms/step - loss: 0.0881 - accuracy: 0.8889 - val_loss: 0.0889 - val_accuracy: 0.8914\n",
      "Epoch 38/63\n",
      "502/502 [==============================] - 1s 2ms/step - loss: 0.0914 - accuracy: 0.8834 - val_loss: 0.0885 - val_accuracy: 0.8914\n",
      "Epoch 39/63\n",
      "502/502 [==============================] - 1s 2ms/step - loss: 0.0905 - accuracy: 0.8842 - val_loss: 0.0908 - val_accuracy: 0.8914\n",
      "Epoch 40/63\n",
      "502/502 [==============================] - 1s 3ms/step - loss: 0.0873 - accuracy: 0.8894 - val_loss: 0.0890 - val_accuracy: 0.8925\n",
      "Epoch 41/63\n",
      "502/502 [==============================] - 1s 2ms/step - loss: 0.0943 - accuracy: 0.8787 - val_loss: 0.0899 - val_accuracy: 0.8925\n",
      "Epoch 42/63\n",
      "502/502 [==============================] - 1s 2ms/step - loss: 0.0878 - accuracy: 0.8866 - val_loss: 0.0876 - val_accuracy: 0.8936\n",
      "Epoch 43/63\n",
      "502/502 [==============================] - 1s 2ms/step - loss: 0.0916 - accuracy: 0.8842 - val_loss: 0.0911 - val_accuracy: 0.8914\n",
      "Epoch 44/63\n",
      "502/502 [==============================] - 1s 3ms/step - loss: 0.0889 - accuracy: 0.8865 - val_loss: 0.0880 - val_accuracy: 0.8925\n",
      "Epoch 45/63\n",
      "502/502 [==============================] - 1s 2ms/step - loss: 0.0907 - accuracy: 0.8841 - val_loss: 0.0876 - val_accuracy: 0.8947\n",
      "Epoch 46/63\n",
      "502/502 [==============================] - 1s 2ms/step - loss: 0.0888 - accuracy: 0.8833 - val_loss: 0.0915 - val_accuracy: 0.8925\n",
      "Epoch 47/63\n",
      "502/502 [==============================] - 1s 2ms/step - loss: 0.0922 - accuracy: 0.8818 - val_loss: 0.0927 - val_accuracy: 0.8925\n",
      "Epoch 48/63\n",
      "502/502 [==============================] - 1s 2ms/step - loss: 0.0889 - accuracy: 0.8873 - val_loss: 0.0902 - val_accuracy: 0.8925\n",
      "Epoch 49/63\n",
      "502/502 [==============================] - 1s 2ms/step - loss: 0.0922 - accuracy: 0.8839 - val_loss: 0.0879 - val_accuracy: 0.8936\n",
      "Epoch 50/63\n",
      "502/502 [==============================] - 1s 2ms/step - loss: 0.0874 - accuracy: 0.8895 - val_loss: 0.0888 - val_accuracy: 0.8936\n",
      "Epoch 51/63\n",
      "502/502 [==============================] - 1s 2ms/step - loss: 0.0871 - accuracy: 0.8885 - val_loss: 0.0878 - val_accuracy: 0.8914\n",
      "Epoch 52/63\n",
      "502/502 [==============================] - 1s 2ms/step - loss: 0.0888 - accuracy: 0.8884 - val_loss: 0.0939 - val_accuracy: 0.8947\n",
      "Epoch 53/63\n",
      "502/502 [==============================] - 1s 2ms/step - loss: 0.0875 - accuracy: 0.8891 - val_loss: 0.0895 - val_accuracy: 0.8936\n",
      "Epoch 54/63\n",
      "502/502 [==============================] - 1s 2ms/step - loss: 0.0881 - accuracy: 0.8876 - val_loss: 0.0886 - val_accuracy: 0.8947\n",
      "Epoch 55/63\n",
      "502/502 [==============================] - 1s 2ms/step - loss: 0.0926 - accuracy: 0.8831 - val_loss: 0.0881 - val_accuracy: 0.8914\n",
      "Epoch 56/63\n",
      "502/502 [==============================] - 1s 2ms/step - loss: 0.0868 - accuracy: 0.8888 - val_loss: 0.0880 - val_accuracy: 0.8903\n",
      "Epoch 57/63\n",
      "502/502 [==============================] - 1s 2ms/step - loss: 0.0868 - accuracy: 0.8892 - val_loss: 0.0893 - val_accuracy: 0.8925\n",
      "Epoch 58/63\n"
     ]
    },
    {
     "name": "stdout",
     "output_type": "stream",
     "text": [
      "502/502 [==============================] - 2s 3ms/step - loss: 0.0885 - accuracy: 0.8837 - val_loss: 0.0892 - val_accuracy: 0.8925\n",
      "Epoch 59/63\n",
      "502/502 [==============================] - 1s 3ms/step - loss: 0.0843 - accuracy: 0.8938 - val_loss: 0.0876 - val_accuracy: 0.8936\n",
      "Epoch 60/63\n",
      "502/502 [==============================] - 1s 3ms/step - loss: 0.0901 - accuracy: 0.8839 - val_loss: 0.0903 - val_accuracy: 0.8925\n",
      "Epoch 61/63\n",
      "502/502 [==============================] - 1s 2ms/step - loss: 0.0894 - accuracy: 0.8865 - val_loss: 0.0903 - val_accuracy: 0.8947\n",
      "Epoch 62/63\n",
      "502/502 [==============================] - 1s 2ms/step - loss: 0.0865 - accuracy: 0.8909 - val_loss: 0.0883 - val_accuracy: 0.8936\n",
      "Epoch 63/63\n",
      "502/502 [==============================] - 1s 2ms/step - loss: 0.0907 - accuracy: 0.8823 - val_loss: 0.0900 - val_accuracy: 0.8914\n"
     ]
    }
   ],
   "source": [
    "model.compile(optimizer='adam', loss='mean_squared_error',metrics=['accuracy'])\n",
    "history = model.fit(np.array(X_train), np.array(y_train),validation_split=0.1, batch_size=16, epochs=63)\n"
   ]
  },
  {
   "cell_type": "code",
   "execution_count": 19,
   "metadata": {},
   "outputs": [
    {
     "name": "stdout",
     "output_type": "stream",
     "text": [
      "dict_keys(['loss', 'accuracy', 'val_loss', 'val_accuracy'])\n"
     ]
    },
    {
     "data": {
      "image/png": "[encoded data removed]",
      "text/plain": [
       "<Figure size 432x288 with 1 Axes>"
      ]
     },
     "metadata": {
      "needs_background": "light"
     },
     "output_type": "display_data"
    },
    {
     "data": {
      "image/png": "[encoded data removed]",
      "text/plain": [
       "<Figure size 432x288 with 1 Axes>"
      ]
     },
     "metadata": {
      "needs_background": "light"
     },
     "output_type": "display_data"
    }
   ],
   "source": [
    "print(history.history.keys())\n",
    "# summarize history for accuracy\n",
    "plt.plot(history.history['accuracy'])\n",
    "plt.plot(history.history['val_accuracy'])\n",
    "plt.title('model accuracy')\n",
    "plt.ylabel('accuracy')\n",
    "plt.xlabel('epoch')\n",
    "plt.legend(['train', 'test'], loc='upper left')\n",
    "plt.show()\n",
    "# summarize history for loss\n",
    "plt.plot(history.history['loss'])\n",
    "plt.plot(history.history['val_loss'])\n",
    "plt.title('model loss')\n",
    "plt.ylabel('loss')\n",
    "plt.xlabel('epoch')\n",
    "plt.legend(['train', 'test'], loc='upper left')\n",
    "plt.show()"
   ]
  },
  {
   "cell_type": "markdown",
   "metadata": {},
   "source": [
    "## mlp is beter than other ml models"
   ]
  },
  {
   "cell_type": "code",
   "execution_count": 22,
   "metadata": {},
   "outputs": [
    {
     "name": "stdout",
     "output_type": "stream",
     "text": [
      "28/28 [==============================] - 0s 993us/step - loss: 0.0900 - accuracy: 0.8914\n"
     ]
    },
    {
     "data": {
      "text/plain": [
       "[0.09002432972192764, 0.8913773894309998]"
      ]
     },
     "execution_count": 22,
     "metadata": {},
     "output_type": "execute_result"
    }
   ],
   "source": [
    "\n",
    "model.evaluate(X_val,y_val)\n"
   ]
  },
  {
   "cell_type": "code",
   "execution_count": null,
   "metadata": {},
   "outputs": [],
   "source": []
  }
 ],
 "metadata": {
  "kernelspec": {
   "display_name": "Python 3",
   "language": "python",
   "name": "python3"
  },
  "language_info": {
   "codemirror_mode": {
    "name": "ipython",
    "version": 3
   },
   "file_extension": ".py",
   "mimetype": "text/x-python",
   "name": "python",
   "nbconvert_exporter": "python",
   "pygments_lexer": "ipython3",
   "version": "3.6.9"
  }
 },
 "nbformat": 4,
 "nbformat_minor": 2
}
